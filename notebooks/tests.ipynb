{
 "cells": [
  {
   "cell_type": "code",
   "execution_count": 1,
   "metadata": {},
   "outputs": [],
   "source": [
    "import os\n",
    "os.chdir('..')"
   ]
  },
  {
   "cell_type": "code",
   "execution_count": 2,
   "metadata": {},
   "outputs": [
    {
     "name": "stdout",
     "output_type": "stream",
     "text": [
      "BigQuery: Dataset covid_db created or already exists.\n",
      "BigQuery: Dataset covid_db already exists.\n",
      "SQLite: Dataset db/covid_db.db created or already exists.\n"
     ]
    }
   ],
   "source": [
    "from src.pipeline import *\n",
    "\n",
    "project_id = \"etraining-prueba-tecnica\"\n",
    "dataset_id = \"covid_db\"\n",
    "sqlite_file = 'db/covid_db.db'\n",
    "\n",
    "# Create databases and tables\n",
    "try: create_bigquery_dataset_and_tables(project_id, dataset_id, \"db/schema_cloud.sql\")\n",
    "except: pass\n",
    "if os.path.exists(sqlite_file):\n",
    "    os.remove(sqlite_file)\n",
    "create_sqlite_db_and_tables(sqlite_file, \"db/schema_local.sql\")"
   ]
  },
  {
   "cell_type": "code",
   "execution_count": 5,
   "metadata": {},
   "outputs": [
    {
     "name": "stdout",
     "output_type": "stream",
     "text": [
      "BigQuery: Loaded 11 rows into death_percentage_by_age_group table.\n",
      "SQLite: Loaded 20000 rows into cases table.\n",
      "BigQuery: Loaded 20000 rows into cases table.\n",
      "SQLite: Loaded 3 rows into status table.\n",
      "BigQuery: Loaded 3 rows into status table.\n",
      "SQLite: Loaded 3 rows into type_contagion table.\n",
      "BigQuery: Loaded 3 rows into type_contagion table.\n",
      "SQLite: Loaded 2 rows into gender table.\n",
      "BigQuery: Loaded 2 rows into gender table.\n",
      "SQLite: Loaded 234 rows into municipality table.\n",
      "BigQuery: Loaded 234 rows into municipality table.\n",
      "SQLite: Loaded 2 rows into department table.\n",
      "BigQuery: Loaded 2 rows into department table.\n"
     ]
    }
   ],
   "source": [
    "# # Procesar y cargar datos\n",
    "data = extract_data(\"db/data_covid.xlsx\")\n",
    "kpis, death_percentage_by_age_group = transform_data(data)\n",
    "load_data_to_bigquery(project_id, dataset_id, 'death_percentage_by_age_group', death_percentage_by_age_group)\n",
    "for table_name, dataframe in data.items():\n",
    "    load_data_to_sqlite(sqlite_file, table_name, dataframe)\n",
    "    load_data_to_bigquery(project_id, dataset_id, table_name, dataframe)"
   ]
  }
 ],
 "metadata": {
  "kernelspec": {
   "display_name": "Python 3",
   "language": "python",
   "name": "python3"
  },
  "language_info": {
   "codemirror_mode": {
    "name": "ipython",
    "version": 3
   },
   "file_extension": ".py",
   "mimetype": "text/x-python",
   "name": "python",
   "nbconvert_exporter": "python",
   "pygments_lexer": "ipython3",
   "version": "3.11.0"
  }
 },
 "nbformat": 4,
 "nbformat_minor": 2
}
